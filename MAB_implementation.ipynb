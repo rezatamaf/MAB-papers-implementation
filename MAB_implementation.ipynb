{
  "nbformat": 4,
  "nbformat_minor": 0,
  "metadata": {
    "kernelspec": {
      "display_name": "Python 3",
      "language": "python",
      "name": "python3"
    },
    "language_info": {
      "codemirror_mode": {
        "name": "ipython",
        "version": 3
      },
      "file_extension": ".py",
      "mimetype": "text/x-python",
      "name": "python",
      "nbconvert_exporter": "python",
      "pygments_lexer": "ipython3",
      "version": "3.8.3"
    },
    "colab": {
      "name": "MAB_implementation.ipynb",
      "provenance": []
    }
  },
  "cells": [
    {
      "cell_type": "code",
      "metadata": {
        "id": "WfUv1Li4NTmn"
      },
      "source": [
        "import numpy as np\n",
        "from abc import ABC, abstractmethod\n",
        "from sklearn.tree import DecisionTreeClassifier   \n",
        "from sklearn.base import clone                    \n",
        "import matplotlib.pyplot as plt                   \n",
        "from sklearn.metrics.pairwise import rbf_kernel   "
      ],
      "execution_count": null,
      "outputs": []
    },
    {
      "cell_type": "code",
      "metadata": {
        "id": "UeIJmctMNTmo"
      },
      "source": [
        "class MAB(ABC):\n",
        "    \"\"\"Base class for a contextual multi-armed bandit (MAB)\n",
        "    \n",
        "    Parameters\n",
        "    ----------\n",
        "    n_arms : int\n",
        "        Number of arms.\n",
        "    \"\"\"\n",
        "    def __init__(self, n_arms):\n",
        "        if not np.issubdtype(type(n_arms), np.integer):\n",
        "            raise TypeError(\"`n_arms` must be an integer\")\n",
        "        if not n_arms >= 0:\n",
        "            raise ValueError(\"`n_arms` must be non-negative\")\n",
        "        self.n_arms = n_arms\n",
        "        \"\"\"\n",
        "        indicator : Array containing information about how many times eachs of the arms have been played\n",
        "        q : Array containing expected reward of the arms\n",
        "        r : Array containing cumulative rewards of the arms\n",
        "        \"\"\"\n",
        "        self.indicator = np.zeros(self.n_arms) \n",
        "        self.q = np.inf * np.ones(self.n_arms)\n",
        "        self.r = np.zeros(self.n_arms)\n",
        "        \n",
        "    @abstractmethod\n",
        "    def play(self, context):\n",
        "        \"\"\"Play a round\n",
        "        \n",
        "        Parameters\n",
        "        ----------        \n",
        "        context : float numpy.ndarray, shape (n_arms, n_dims), optional\n",
        "            An array of context vectors presented to the MAB. The 0-th \n",
        "            axis indexes the arms, and the 1-st axis indexes the features.\n",
        "            Non-contextual bandits accept a context of None.\n",
        "        \n",
        "        Returns\n",
        "        -------\n",
        "        arm : int\n",
        "            Integer index of the arm played this round. Should be in the set \n",
        "            {0, ..., n_arms - 1}.\n",
        "        \"\"\"\n",
        "        \n",
        "    @abstractmethod\n",
        "    def update(self, arm, reward, context):\n",
        "        \"\"\"Update the internal state of the MAB after a play\n",
        "        \n",
        "        Parameters\n",
        "        ----------\n",
        "        arm : int\n",
        "            Integer index of the played arm in the set {0, ..., n_arms - 1}.\n",
        "        \n",
        "        reward : float\n",
        "            Reward received from the arm.\n",
        "        \n",
        "        context : float numpy.ndarray, shape (n_arms, n_dims), optional\n",
        "            An array of context vectors that was presented to the MAB. The \n",
        "            0-th axis indexes the arms, and the 1-st axis indexes the \n",
        "            features. Non-contextual bandits accept a context of None. \n",
        "        \"\"\"\n",
        "        self.indicator[arm] += 1\n",
        "        self.r[arm] += reward\n",
        "        "
      ],
      "execution_count": null,
      "outputs": []
    },
    {
      "cell_type": "code",
      "metadata": {
        "id": "HK59v-xXNTmr"
      },
      "source": [
        "# Define global functions here, if required\n",
        "# Do exploitation based on highest expected reward\n",
        "def exploit(avg_rewards):\n",
        "    return np.random.choice(np.where(avg_rewards == avg_rewards.max())[0]) "
      ],
      "execution_count": null,
      "outputs": []
    },
    {
      "cell_type": "markdown",
      "metadata": {
        "id": "EuQPFL7GNTms"
      },
      "source": [
        "## 1. Implement ε-greedy and UCB MABs"
      ]
    },
    {
      "cell_type": "code",
      "metadata": {
        "id": "nIlcCKj9NTmu"
      },
      "source": [
        "class EpsGreedy(MAB):\n",
        "    \"\"\"Epsilon-Greedy multi-armed bandit\n",
        "\n",
        "    Parameters\n",
        "    ----------\n",
        "    n_arms : int\n",
        "        Number of arms\n",
        "\n",
        "    epsilon : float\n",
        "        Explore probability. Must be in the interval [0, 1].\n",
        "\n",
        "    Q0 : float, default=np.inf\n",
        "        Initial value for the arms.\n",
        "    \"\"\"\n",
        "    def __init__(self, n_arms, epsilon, Q0=np.inf):\n",
        "        super().__init__(n_arms)\n",
        "        self.epsilon = epsilon\n",
        "        self.q = Q0 * np.ones(self.n_arms)\n",
        "        \n",
        "    def play(self, context=None):\n",
        "        super().play(context)\n",
        "        # Decide whether to explore or not based on bernoulli sample\n",
        "        explore = np.random.binomial(1, self.epsilon, 1)[0]\n",
        "        if explore:\n",
        "            return np.random.randint(0,self.n_arms)\n",
        "        else:\n",
        "            return exploit(self.q) \n",
        "            \n",
        "    def update(self, arm, reward, context=None):\n",
        "        super().update(arm, reward, context)\n",
        "        # update expected rewards\n",
        "        self.q[arm] = self.r[arm] / self.indicator[arm]"
      ],
      "execution_count": null,
      "outputs": []
    },
    {
      "cell_type": "code",
      "metadata": {
        "id": "YrD_fYkfNTmv"
      },
      "source": [
        "class UCB(MAB):\n",
        "    \"\"\"Upper Confidence Bound (UCB) multi-armed bandit\n",
        "\n",
        "    Parameters\n",
        "    ----------\n",
        "    n_arms : int\n",
        "        Number of arms.\n",
        "\n",
        "    rho : float\n",
        "        Positive real explore-exploit parameter.\n",
        "\n",
        "    Q0 : float, default=np.inf\n",
        "        Initial value for the arms.\n",
        "    \"\"\"\n",
        "    def __init__(self, n_arms, rho, Q0=np.inf):\n",
        "        super().__init__(n_arms\n",
        "        self.rho = rho\n",
        "        self.q = Q0 * np.ones(self.n_arms)\n",
        "    \n",
        "    def play(self, context=None):\n",
        "        super().play(context)\n",
        "        return exploit(self.q) \n",
        "        \n",
        "    def update(self, arm, reward, context=None):\n",
        "        super().update(arm, reward, context)\n",
        "        # calculate upper bound of expected rewards\n",
        "        mu_hat = self.r[arm] / self.indicator[arm]\n",
        "        t = np.sum(self.indicator) + 1\n",
        "        # add upper bounds to expected rewards\n",
        "        self.q[arm] = mu_hat + np.sqrt(self.rho * np.log(t)/self.indicator[arm])\n"
      ],
      "execution_count": null,
      "outputs": []
    },
    {
      "cell_type": "markdown",
      "metadata": {
        "id": "wQfIYO1JNTmv"
      },
      "source": [
        "## 2. Implement off-policy evaluation"
      ]
    },
    {
      "cell_type": "code",
      "metadata": {
        "id": "MD7iikr3NTmw"
      },
      "source": [
        "def offlineEvaluate(mab, arms, rewards, contexts, n_rounds=None):\n",
        "    \"\"\"Offline evaluation of a multi-armed bandit\n",
        "    \n",
        "    Parameters\n",
        "    ----------\n",
        "    mab : instance of MAB\n",
        "        MAB to evaluate.\n",
        "    \n",
        "    arms : integer numpy.ndarray, shape (n_events,) \n",
        "        Array containing the history of pulled arms, represented as integer \n",
        "        indices in the set {0, ..., mab.n_arms}\n",
        "    \n",
        "    rewards : float numpy.ndarray, shape (n_events,)\n",
        "        Array containing the history of rewards.\n",
        "    \n",
        "    contexts : float numpy.ndarray, shape (n_events, n_arms, n_dims)\n",
        "        Array containing the history of contexts presented to the arms. \n",
        "        The 0-th axis indexes the events in the history, the 1-st axis \n",
        "        indexes the arms and the 2-nd axis indexed the features.\n",
        "        \n",
        "    n_rounds : int, default=None\n",
        "        Number of matching events to evaluate the MAB on. If None, \n",
        "        continue evaluating until the historical events are exhausted.\n",
        "    \n",
        "    Returns\n",
        "    -------\n",
        "    out : float numpy.ndarray\n",
        "        Rewards for the matching events.\n",
        "    \"\"\"\n",
        "    # evaluate MAB until the last event if no n_rounds is set\n",
        "    n_events = contexts.shape[0]\n",
        "    if n_rounds==None:\n",
        "        n_rounds=n_events\n",
        "        \n",
        "    out = np.empty(0)\n",
        "    # iterate over the historical events\n",
        "    # update MAB state if the chosen arm match with the arm in current event\n",
        "    for t in range(n_events):\n",
        "        if len(out) < n_rounds:\n",
        "            chosen_arm = mab.play(contexts[t])\n",
        "            if chosen_arm == arms[t]:\n",
        "                mab.update(chosen_arm, rewards[t], contexts[t])\n",
        "                out = np.append(out,rewards[t])\n",
        "        else:\n",
        "            break\n",
        "    return out\n",
        "    "
      ],
      "execution_count": null,
      "outputs": []
    },
    {
      "cell_type": "code",
      "metadata": {
        "id": "c4SnINUvNTmw"
      },
      "source": [
        "# load dataset here\n",
        "N_ARMS = 10\n",
        "NON_FEAT_COLS = 2\n",
        "data = np.loadtxt(\"dataset.txt\")\n",
        "arms = data[:,0]\n",
        "rewards = data[:,1]\n",
        "contexts = data[:,2:].reshape((data.shape[0],N_ARMS,int((data.shape[1]-NON_FEAT_COLS)/N_ARMS)))"
      ],
      "execution_count": null,
      "outputs": []
    },
    {
      "cell_type": "code",
      "metadata": {
        "id": "RPX_8ba6NTmw",
        "outputId": "729f208a-d833-4c5e-af6a-026d1f6d3c59"
      },
      "source": [
        "mab = EpsGreedy(10, 0.05)\n",
        "results_EpsGreedy = offlineEvaluate(mab, arms, rewards, contexts, 800)\n",
        "print('EpsGreedy average reward', np.mean(results_EpsGreedy))"
      ],
      "execution_count": null,
      "outputs": [
        {
          "output_type": "stream",
          "text": [
            "EpsGreedy average reward 0.25625\n"
          ],
          "name": "stdout"
        }
      ]
    },
    {
      "cell_type": "code",
      "metadata": {
        "id": "Mewuv-3rNTmy",
        "outputId": "6691b38c-9b18-42ee-b854-81003313b544"
      },
      "source": [
        "mab = UCB(10, 1.0)\n",
        "results_UCB = offlineEvaluate(mab, arms, rewards, contexts, 800)\n",
        "print('UCB average reward', np.mean(results_UCB))"
      ],
      "execution_count": null,
      "outputs": [
        {
          "output_type": "stream",
          "text": [
            "UCB average reward 0.15875\n"
          ],
          "name": "stdout"
        }
      ]
    },
    {
      "cell_type": "markdown",
      "metadata": {
        "id": "aojynxpWNTmy"
      },
      "source": [
        "## 3. Implement LinUCB contextual MAB"
      ]
    },
    {
      "cell_type": "code",
      "metadata": {
        "id": "YqM_ILTgNTmz"
      },
      "source": [
        "class LinUCB(MAB):\n",
        "    \"\"\"Contextual multi-armed bandit (LinUCB)\n",
        "\n",
        "    Parameters\n",
        "    ----------\n",
        "    n_arms : int\n",
        "        Number of arms.\n",
        "\n",
        "    n_dims : int\n",
        "        Number of features for each arm's context.\n",
        "\n",
        "    alpha : float\n",
        "        Positive real explore-exploit parameter.\n",
        "    \"\"\"\n",
        "    def __init__(self, n_arms, n_dims, alpha):\n",
        "        super().__init__(n_arms)\n",
        "        self.alpha = alpha\n",
        "        # vector containing design matrix of each of the arms\n",
        "        self.A = np.tile(np.eye(n_dims).ravel(), n_arms).reshape((n_arms,n_dims,n_dims)) \n",
        "        # vector containing  product of observed response and features of each of the arms\n",
        "        self.b = np.zeros(n_dims * n_arms).reshape((n_arms,n_dims,1))\n",
        "    \n",
        "    def play(self, context):\n",
        "        super().play(context)\n",
        "        # adjust the dimension of the context\n",
        "        context = np.expand_dims(context, axis=2)\n",
        "        # calculate parameter of linear regression\n",
        "        theta = np.linalg.inv(self.A) @ self.b\n",
        "        # calculate expected rewards based on regression prediction and the upper bound\n",
        "        p = (theta.transpose((0, 2, 1)) @ context) + (self.alpha * np.sqrt(context.transpose((0, 2, 1)) @ np.linalg.inv(self.A) @ context))\n",
        "        return exploit(p)\n",
        "    \n",
        "    def update(self, arm, reward, context):\n",
        "        super().update(arm, reward, context)\n",
        "        # adjust the dimension of the context\n",
        "        context = np.expand_dims(context, axis=2)\n",
        "        # update design matrix\n",
        "        self.A[arm] += context[arm] @ context[arm].T\n",
        "        # update vector of product of response and features\n",
        "        self.b[arm] += reward * context[arm]"
      ],
      "execution_count": null,
      "outputs": []
    },
    {
      "cell_type": "code",
      "metadata": {
        "id": "nODxe5-6NTmz",
        "outputId": "9ad28c37-dd80-4ff4-e504-011795134d1a"
      },
      "source": [
        "mab = LinUCB(10, 10, 1.0)\n",
        "results_LinUCB = offlineEvaluate(mab, arms, rewards, contexts, 800)\n",
        "print('LinUCB average reward', np.mean(results_LinUCB))"
      ],
      "execution_count": null,
      "outputs": [
        {
          "output_type": "stream",
          "text": [
            "LinUCB average reward 0.53\n"
          ],
          "name": "stdout"
        }
      ]
    },
    {
      "cell_type": "markdown",
      "metadata": {
        "id": "Mvkj6kmWNTm0"
      },
      "source": [
        "## 4. Implement TreeBootstrap contextual MAB"
      ]
    },
    {
      "cell_type": "code",
      "metadata": {
        "id": "4MaXCVEnNTm0"
      },
      "source": [
        "class TreeBootstrap(MAB):\n",
        "    \"\"\"Contextual Thompson sampled multi-armed bandit (TreeBootstrap)\n",
        "\n",
        "    Parameters\n",
        "    ----------\n",
        "    n_arms : int\n",
        "        Number of arms.\n",
        "\n",
        "    n_dims : int\n",
        "        Number of features for each arm's context.\n",
        "\n",
        "    tree : instance of sklearn.tree.DecisionTreeClassifier, optional\n",
        "        Decision tree to use for predicting the expected future reward. \n",
        "        Defaults to sklearn.tree.DecisionTreeClassifier().\n",
        "    \"\"\"\n",
        "    def __init__(self, n_arms, n_dims, tree=DecisionTreeClassifier()):\n",
        "        super().__init__(n_arms)\n",
        "        self.n_dims = n_dims\n",
        "        self.tree = tree\n",
        "        # set default expected rewards as one for all arms\n",
        "        self.p = np.ones(n_arms)\n",
        "        # variables in which historical contexts and reward are stored\n",
        "        self.y = np.empty(n_arms,dtype=object)\n",
        "        self.x = np.empty(n_arms,dtype=object)\n",
        "        \n",
        "    def play(self, context):\n",
        "        super().play(context)\n",
        "        # iterate over the arms\n",
        "        for i in range(self.p.shape[0]):\n",
        "            if self.indicator[i] > 0:\n",
        "                # get current number of rows of context\n",
        "                ctx_len = self.x[i].shape[0]\n",
        "                # sample indices from historical contexts with replacement (bootstrap)\n",
        "                bootstrp_idx = np.random.choice(ctx_len,ctx_len)\n",
        "                # select associated rows of context and rewards\n",
        "                bootstrp_x = self.x[i][bootstrp_idx].ravel().reshape(ctx_len,self.n_dims)\n",
        "                bootstrp_y = self.y[i][bootstrp_idx].ravel()\n",
        "                # fit decision tree on selected contexts and rewards\n",
        "                self.tree = self.tree.fit(bootstrp_x,bootstrp_y)\n",
        "                # predict expected rewards based on observered context\n",
        "                self.p[i] = self.tree.predict_proba(context[i].ravel().reshape(1,self.n_dims))[0][-1]\n",
        "        return exploit(self.p)\n",
        "        \n",
        "    def update(self, arm, reward, context):\n",
        "        super().update(arm, reward, context)\n",
        "        # update historical contexts and rewards of played arm\n",
        "        if self.indicator[arm] - 1 == 0:\n",
        "            self.x[arm] = np.stack((context[arm],context[arm]))\n",
        "            self.y[arm] = np.stack(([0],[1]))\n",
        "        self.x[arm] = np.concatenate((self.x[arm],[context[arm]]))\n",
        "        self.y[arm] = np.concatenate((self.y[arm],[[reward]]))"
      ],
      "execution_count": null,
      "outputs": []
    },
    {
      "cell_type": "code",
      "metadata": {
        "id": "TFflTQ2fNTm0",
        "outputId": "4ac68b34-1423-4a52-ae89-5c2c6186dabd"
      },
      "source": [
        "mab = TreeBootstrap(10, 10)\n",
        "results_TreeBootstrap = offlineEvaluate(mab, arms, rewards, contexts, 800)\n",
        "print('TreeBootstrap average reward', np.mean(results_TreeBootstrap))"
      ],
      "execution_count": null,
      "outputs": [
        {
          "output_type": "stream",
          "text": [
            "TreeBootstrap average reward 0.60375\n"
          ],
          "name": "stdout"
        }
      ]
    },
    {
      "cell_type": "markdown",
      "metadata": {
        "id": "ZANW9bo9NTm1"
      },
      "source": [
        "## 5. Evaluation and hyperparameter tuning for LinUCB\n",
        "### 5.A."
      ]
    },
    {
      "cell_type": "code",
      "metadata": {
        "id": "jjeKLDHaNTm1",
        "outputId": "e0f80193-449d-46df-dd8c-8f2dc0bcdf64"
      },
      "source": [
        "# calculate per round cumulative average reward\n",
        "def per_round_reward(mab_result):\n",
        "    return np.cumsum(mab_result)/np.arange(1, len(mab_result)+1)\n",
        "\n",
        "EpsGreedy_avg_reward = per_round_reward(results_EpsGreedy)\n",
        "UCB_avg_reward = per_round_reward(results_UCB)\n",
        "LinUCB_avg_reward = per_round_reward(results_LinUCB)\n",
        "TreeBootstrap_avg_reward = per_round_reward(results_TreeBootstrap)\n",
        "\n",
        "# compare performance of the MABs\n",
        "plt.plot(EpsGreedy_avg_reward,label='EpsGreedy')\n",
        "plt.plot(UCB_avg_reward,label='UCB')\n",
        "plt.plot(LinUCB_avg_reward,label='LinUCB')\n",
        "plt.plot(TreeBootstrap_avg_reward,label='TreeBootstrap')\n",
        "plt.legend()\n",
        "plt.xlabel('round')\n",
        "plt.ylabel('avg reward')"
      ],
      "execution_count": null,
      "outputs": [
        {
          "output_type": "execute_result",
          "data": {
            "text/plain": [
              "Text(0, 0.5, 'avg reward')"
            ]
          },
          "metadata": {
            "tags": []
          },
          "execution_count": 14
        },
        {
          "output_type": "display_data",
          "data": {
            "image/png": "[encoded data removed]",
            "text/plain": [
              "<Figure size 432x288 with 1 Axes>"
            ]
          },
          "metadata": {
            "tags": [],
            "needs_background": "light"
          }
        }
      ]
    },
    {
      "cell_type": "markdown",
      "metadata": {
        "id": "KDb-_SmCNTm1"
      },
      "source": [
        "### 5.B."
      ]
    },
    {
      "cell_type": "code",
      "metadata": {
        "id": "kXgeKHr0NTm1",
        "outputId": "dc69fa10-b8f2-4c2e-ee7c-d8be5713f377"
      },
      "source": [
        "space_size = 5\n",
        "n_rounds = 800\n",
        "# get different values of alphas in given range\n",
        "alphas = np.linspace(0.1, 3, num=space_size)\n",
        "avg_reward = np.empty((space_size,n_rounds))\n",
        "# evaluate LinUCB on different alpha setting\n",
        "for i,alpha in enumerate(alphas) :\n",
        "    mab = LinUCB(10, 10, alpha)\n",
        "    results = offlineEvaluate(mab, arms, rewards, contexts, n_rounds)\n",
        "    avg_reward[i] = per_round_reward(results)\n",
        "# compare performance of LinUCB on different alpha setting\n",
        "for i in range(space_size):\n",
        "    plt.plot(avg_reward[i],label=f'α = {np.round(alphas[i],2)}')\n",
        "    if i==4:\n",
        "        plt.legend()\n",
        "        plt.xlabel('round')\n",
        "        plt.ylabel('avg reward')"
      ],
      "execution_count": null,
      "outputs": [
        {
          "output_type": "display_data",
          "data": {
            "image/png": "[encoded data removed]",
            "text/plain": [
              "<Figure size 432x288 with 1 Axes>"
            ]
          },
          "metadata": {
            "tags": [],
            "needs_background": "light"
          }
        }
      ]
    },
    {
      "cell_type": "markdown",
      "metadata": {
        "id": "A6x6G2o_NTm1"
      },
      "source": [
        "## 6. Implement KernelUCB contextual MAB"
      ]
    },
    {
      "cell_type": "code",
      "metadata": {
        "id": "mYsf54NZNTm2"
      },
      "source": [
        "class KernelUCB(MAB):\n",
        "    \"\"\"Kernelised contextual multi-armed bandit (Kernelised LinUCB)\n",
        "    \n",
        "    Parameters\n",
        "    ----------\n",
        "    n_arms : int\n",
        "        Number of arms.\n",
        "\n",
        "    n_dims : int\n",
        "        Number of features for each arm's context.\n",
        "\n",
        "    gamma : float\n",
        "        Positive real explore-exploit parameter.\n",
        "    \n",
        "    eta : float\n",
        "        Positive real explore-exploit parameter.\n",
        "    \n",
        "    kern : callable\n",
        "        A kernel function from sklearn.metrics.pairwise.\n",
        "    \"\"\"\n",
        "    def __init__(self, n_arms, n_dims, gamma, eta, kern):\n",
        "        super().__init__(n_arms)\n",
        "        self.n_dims = n_dims\n",
        "        self.gamma = gamma\n",
        "        self.eta = eta\n",
        "        self.kern = kern\n",
        "        self.sigma = np.empty(self.n_arms)\n",
        "        # vector consisting expected rewards of each arms\n",
        "        self.u = np.concatenate(([1],np.zeros(self.n_arms-1)))\n",
        "        # vector to store historical contexts\n",
        "        self.x = np.empty(0)\n",
        "        # vector to store historical rewards\n",
        "        self.y = np.empty(0)\n",
        "        # variable to store inverse of kernel matrix\n",
        "        self.k_t_inv = np.empty(0)\n",
        "        \n",
        "    def play(self, context):\n",
        "        super().play(context)\n",
        "        context = np.expand_dims(context, axis=2)\n",
        "        if np.sum(self.indicator)>0:\n",
        "            # calculate kernel between observed context and historical contexts\n",
        "            k_x_t = np.array([self.kern(i.T,self.x).T for i in context])\n",
        "            # calculate kernel of obeserved contexts\n",
        "            k_xt_xt = np.array([self.kern(i.T).ravel()[0] for i in context])\n",
        "            # calculate upperbound of the reward\n",
        "            self.sigma = np.sqrt(k_xt_xt-(np.einsum('ijk,lk->ijl', k_x_t.transpose((0,2,1)), self.k_t_inv) @ k_x_t).ravel())\n",
        "            # calculate expected rewards\n",
        "            self.u = (k_x_t.transpose((0,2,1)) @ self.k_t_inv @ self.y).ravel() + (self.eta / np.sqrt(self.gamma) * self.sigma)\n",
        "        return exploit(self.u)\n",
        "    \n",
        "    def update(self, arm, reward, context):\n",
        "        super().update(arm, reward, context)\n",
        "        context = np.expand_dims(context, axis=2)[arm]\n",
        "        if np.sum(self.indicator)==1:\n",
        "            self.x = context.T\n",
        "            self.y = np.array([reward])\n",
        "            self.k_t_inv = 1/(self.kern(context.T) + self.gamma)\n",
        "        else:\n",
        "            self.x = np.concatenate((self.x,context.T)).reshape((np.sum(self.indicator,dtype=np.int32),self.n_dims))\n",
        "            self.y = np.concatenate((self.y,[reward]))\n",
        "            b = self.kern(context.T,self.x[:-1]).T\n",
        "            k_t_inv_b = self.k_t_inv @ b\n",
        "            # update block of kernel matrix\n",
        "            k22 = 1/(self.kern(context.T) + self.gamma - (b.T @ k_t_inv_b))\n",
        "            k11 = self.k_t_inv + (k22 * k_t_inv_b @ b.T @ self.k_t_inv)\n",
        "            k12 = -k22 * k_t_inv_b\n",
        "            k21 = -k22 * b.T @ self.k_t_inv\n",
        "            # update inverse of kernel matrix\n",
        "            self.k_t_inv = np.block([\n",
        "                [k11, k12],\n",
        "                [k21, k22]\n",
        "            ])"
      ],
      "execution_count": null,
      "outputs": []
    },
    {
      "cell_type": "code",
      "metadata": {
        "id": "mnFtLStUNTm2",
        "outputId": "e75f8996-1b14-43b1-fac3-fadcf20fb8c0"
      },
      "source": [
        "mab = KernelUCB(10, 10, 1.0, 0.1, rbf_kernel)\n",
        "results_KernelUCB = offlineEvaluate(mab, arms, rewards, contexts, 800)\n",
        "print('KernelUCB average reward', np.mean(results_KernelUCB))"
      ],
      "execution_count": null,
      "outputs": [
        {
          "output_type": "stream",
          "text": [
            "KernelUCB average reward 0.7075\n"
          ],
          "name": "stdout"
        }
      ]
    },
    {
      "cell_type": "markdown",
      "metadata": {
        "id": "spEt6_GLNTm3"
      },
      "source": [
        "### KernelUCB parameter setting\n",
        "Since the parameters eta and gamma appears in the same location, we can regard them as a single parameter which is the ratio between the eta and squareroot of gamma. Then we only need to find the optimal value of the ratio, and recover the eta and gamma later from it."
      ]
    },
    {
      "cell_type": "code",
      "metadata": {
        "id": "dAkztRC4NTm3",
        "outputId": "045ce943-0a1c-45d1-b769-59c25293c614"
      },
      "source": [
        "# initiliase candidate values of parameter\n",
        "param_ratio = np.linspace(1, 10, num=5)\n",
        "eta = 1\n",
        "avg_reward = np.empty((5,800))\n",
        "for i,ratio in enumerate(param_ratio) :\n",
        "    mab = KernelUCB(10, 10, np.sqrt(eta)*ratio, eta , rbf_kernel)\n",
        "    results = offlineEvaluate(mab, arms, rewards, contexts, 800)\n",
        "    avg_reward[i] = per_round_reward(results)\n",
        "# compare performance of KernelUCB on different parameter setting\n",
        "for i in range(space_size):\n",
        "    plt.plot(avg_reward[i],label=f'ratio = {np.round(param_ratio[i],2)}')\n",
        "    if i==4:\n",
        "        plt.legend()\n",
        "        plt.xlabel('round')\n",
        "        plt.ylabel('avg reward')"
      ],
      "execution_count": null,
      "outputs": [
        {
          "output_type": "display_data",
          "data": {
            "image/png": "[encoded data removed]",
            "text/plain": [
              "<Figure size 432x288 with 1 Axes>"
            ]
          },
          "metadata": {
            "tags": [],
            "needs_background": "light"
          }
        }
      ]
    },
    {
      "cell_type": "markdown",
      "metadata": {
        "id": "_9TdLrBFNTm3"
      },
      "source": [
        "From contour plot above, it can be seen that ratio 3.25 gives us the best performance"
      ]
    },
    {
      "cell_type": "markdown",
      "metadata": {
        "id": "EABlz3MDNTm4"
      },
      "source": [
        "### Tuned KernelUCB and LinUCB performance comparison"
      ]
    },
    {
      "cell_type": "code",
      "metadata": {
        "id": "xTFhfoyrNTm4",
        "outputId": "853b9a46-e2ea-41f7-c9fa-1655a92d9307"
      },
      "source": [
        "# initialise KernelUCB with tuned parameters\n",
        "mab = KernelUCB(10, 10, 3.25, 1, rbf_kernel)\n",
        "results_KernelUCB = offlineEvaluate(mab, arms, rewards, contexts, 800)\n",
        "KernelUCB_avg_reward = per_round_reward(results_KernelUCB)\n",
        "plt.plot(KernelUCB_avg_reward,label='KernelUCB')\n",
        "# initialise LinUCB with tuned parameters\n",
        "mab = LinUCB(10, 10, 0.1)\n",
        "results_LinUCB = offlineEvaluate(mab, arms, rewards, contexts, 800)\n",
        "LinUCB_avg_reward = per_round_reward(results_LinUCB)\n",
        "# compare performance between LinUCB and KernelUCB\n",
        "plt.plot(LinUCB_avg_reward,label='LinUCB')\n",
        "plt.legend()\n",
        "plt.xlabel('round')\n",
        "plt.ylabel('avg reward')"
      ],
      "execution_count": null,
      "outputs": [
        {
          "output_type": "execute_result",
          "data": {
            "text/plain": [
              "Text(0, 0.5, 'avg reward')"
            ]
          },
          "metadata": {
            "tags": []
          },
          "execution_count": 20
        },
        {
          "output_type": "display_data",
          "data": {
            "image/png": "[encoded data removed]",
            "text/plain": [
              "<Figure size 432x288 with 1 Axes>"
            ]
          },
          "metadata": {
            "tags": [],
            "needs_background": "light"
          }
        }
      ]
    }
  ]
}